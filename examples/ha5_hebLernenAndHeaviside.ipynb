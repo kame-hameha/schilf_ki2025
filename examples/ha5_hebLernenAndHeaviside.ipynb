{
  "cells": [
    {
      "cell_type": "code",
      "execution_count": null,
      "metadata": {
        "colab": {
          "base_uri": "https://localhost:8080/",
          "height": 829
        },
        "id": "N1yDHPINxesb",
        "outputId": "fdc3ec3a-9b7b-4cca-f0fe-4e0e739ac1ba"
      },
      "outputs": [],
      "source": [
        "import numpy as np\n",
        "\n",
        "np.random.seed(42)\n",
        "\n",
        "dataset = np.loadtxt(\"/home/pi/ml_lectures/examples/autoklassifizierung.csv\", delimiter=\",\")\n",
        "\n",
        "y = dataset[:,0]\n",
        "x = np.ones( (len(y),3) )\n",
        "x[:,0:2] = dataset[:,1:3]\n",
        "\n",
        "xMin = x[:,0:2].min(axis=0); xMax = x[:,0:2].max(axis=0)\n",
        "x[:,0:2] = (x[:,0:2] - xMin) / (xMax - xMin)\n",
        "t = 0; tmax=100000\n",
        "eta = 0.25\n",
        "Dw = np.zeros(3)\n",
        "w = np.random.rand(3) - 0.5\n",
        "convergenz = 1\n",
        "\n",
        "def myHeaviside(x):\n",
        "    y = np.ones_like(x, dtype=np.float64)\n",
        "    y[x <= 0] = 0\n",
        "    return(y)\n",
        "\n",
        "while (convergenz > 0) and (t<tmax):\n",
        "    t = t +1;\n",
        "    WaehleBeispiel = np.random.randint(len(y))\n",
        "    xB = x[WaehleBeispiel,:].T\n",
        "    yB = y[WaehleBeispiel]\n",
        "    error = yB - myHeaviside(w@xB)\n",
        "    for j in range(len(xB)):\n",
        "        Dw[j]= eta*error*xB[j]\n",
        "        w[j] = w[j] + Dw[j]\n",
        "    convergenz =  np.linalg.norm(y - myHeaviside(w@x.T))\n",
        "\n",
        "def predict(x,w,xMin,xMax):\n",
        "    xC = np.ones( (x.shape[0],3) )\n",
        "    xC[:,0:2] = x\n",
        "    xC[:,0:2] = (xC[:,0:2] - xMin) / (xMax - xMin);\n",
        "    print(\"xC =\\n\", xC)\n",
        "    y = w@xC.T\n",
        "    y[y>0] = 1\n",
        "    y[y<= 0] = 0\n",
        "    return(y)\n",
        "\n",
        "# SEAT\tIbiza, Sokda Octavia, Toyota Avensis und Yaris GRMN\n",
        "xTest = np.array([[12490, 48], [31590, 169],[24740, 97], [30800, 156]])\n",
        "yPredict = predict(xTest,w,xMin,xMax)\n",
        "print(yPredict)\n",
        "print(\"-------------------------------\")\n",
        "\n",
        "import matplotlib.pyplot as plt\n",
        "from matplotlib import cm\n",
        "\n",
        "a= np.linspace(-1, 1, 50)\n",
        "b=-w[0]/w[1]*a-w[2]/w[1]\n",
        "fig = plt.figure(1)\n",
        "ax = fig.add_subplot(1,1,1)\n",
        "ax.plot(a,b,'k', linewidth=1.5, linestyle='dashed')\n",
        "indexA = np.flatnonzero(y>0.5)\n",
        "indexB = np.flatnonzero(y<0.5)\n",
        "ax.scatter(x[indexA,0],x[indexA,1],color='red', marker='o')\n",
        "ax.scatter(x[indexB,0],x[indexB,1],color='black', marker='+')\n",
        "ax.set_xlabel('$x_0$')\n",
        "ax.set_ylabel('$x_1$')\n",
        "ax.set_ylim([-0.25, 1.25])\n",
        "ax.set_xlim([0, 1])\n",
        "ax.set_title(\"Berechnet mit Random Seed 42\")\n",
        "\n",
        "xBool = np.array([[1, 0],[0, 1],[1, 1],[0, 0]])\n",
        "w = np.array([1, 1, -0.5])\n",
        "print(predict(xBool,w,0,1))\n",
        "print(\"-------------------------------\")\n",
        "w = np.array([1, 1, -1.5])\n",
        "print(predict(xBool,w,0,1))"
      ]
    },
    {
      "cell_type": "code",
      "execution_count": null,
      "metadata": {},
      "outputs": [],
      "source": []
    }
  ],
  "metadata": {
    "colab": {
      "provenance": []
    },
    "kernelspec": {
      "display_name": "ml_project_kernel",
      "language": "python",
      "name": "ml_project_kernel"
    },
    "language_info": {
      "codemirror_mode": {
        "name": "ipython",
        "version": 3
      },
      "file_extension": ".py",
      "mimetype": "text/x-python",
      "name": "python",
      "nbconvert_exporter": "python",
      "pygments_lexer": "ipython3",
      "version": "3.11.2"
    }
  },
  "nbformat": 4,
  "nbformat_minor": 0
}

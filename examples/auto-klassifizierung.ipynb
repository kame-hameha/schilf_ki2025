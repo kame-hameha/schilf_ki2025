{
 "cells": [
  {
   "cell_type": "markdown",
   "id": "12ea7ba5",
   "metadata": {},
   "source": [
    "Beispiel:\n",
    "Mithilfe von Daten (Leistung [kW] und Kaufpreis [€]) sollen wir nun z.B. den Autopreis $y$ schätzen."
   ]
  },
  {
   "cell_type": "code",
   "execution_count": null,
   "id": "18f886f6",
   "metadata": {},
   "outputs": [],
   "source": [
    "import numpy as np\n",
    "import matplotlib.pyplot as plt # Kapitel 3.6\n",
    "\n",
    "dataset = np.loadtxt(\"/home/pi/ml_lectures/examples/autoklassifizierung.csv\", delimiter=\",\")\n",
    "x = dataset[:,1:3]\n",
    "y = dataset[:,0]\n",
    "\n",
    "fig = plt.figure(1, figsize=(14, 10), dpi=100) # create figure object #1 with 9x7 inch and 80dpi\n",
    "ax = fig.add_subplot(2,2,1) # add 2x2 layout and first subplot (row, column, number of subplot)\n",
    "\n",
    "ax.set_title('Auto-Datensammlung')\n",
    "ax.scatter(dataset[0:10,1],dataset[0:10,2],c='red',s=60,alpha=0.6,label=\"Obere Mittelklasse\") # class 1\n",
    "ax.scatter(dataset[10:20,1],dataset[10:20,2],c='green',marker='+',s=60,alpha=0.6,label=\"Mittelklasse\") # class 2\n",
    "ax.scatter(dataset[20:30,1],dataset[20:30,2],c='blue',marker='^',s=80,alpha=0.6,label=\"Kleinwagen\") # class 3\n",
    "ax.scatter(dataset[30:40,1],dataset[30:40,2],c='magenta',marker='*',s=60,alpha=0.6,label=\"Kleinstwagen\") # class 4\n",
    "ax.set_xlabel('Kaufpreis (€)')\n",
    "ax.set_ylabel('Leistung (kW)')\n",
    "ax.grid(True,linestyle='-',color='0.75')\n",
    "\n",
    "plt.legend(loc=\"upper left\")"
   ]
  },
  {
   "cell_type": "code",
   "execution_count": null,
   "id": "e957e9b9",
   "metadata": {},
   "outputs": [],
   "source": [
    "import numpy as np\n",
    "import matplotlib.pyplot as plt # Kapitel 3.6\n",
    "\n",
    "dataset = np.loadtxt(\"/home/pi/ml_lectures/examples/autoklassifizierung.csv\", delimiter=\",\")\n",
    "x = dataset[:,1:3]\n",
    "y = dataset[:,0]\n",
    "\n",
    "fig = plt.figure(1, figsize=(14, 10), dpi=100) # create figure object #1 with 9x7 inch and 80dpi\n",
    "ax = fig.add_subplot(2,2,1) # add 2x2 layout and first subplot (row, column, number of subplot)\n",
    "\n",
    "ax.set_title('Auto-Datensammlung')\n",
    "ax.scatter(dataset[0:20,1],dataset[0:20,2],c='red',s=60,alpha=0.6,label=\"Mittelklasse\") # class 1+2\n",
    "ax.scatter(dataset[20:40,1],dataset[20:40,2],c='blue',marker='^',s=80,alpha=0.6,label=\"Kleinwagen\") # class 3+4\n",
    "ax.set_xlabel('Kaufpreis (€)')\n",
    "ax.set_ylabel('Leistung (kW)')\n",
    "ax.grid(True,linestyle='-',color='0.75')\n",
    "\n",
    "plt.legend(loc=\"upper left\")"
   ]
  },
  {
   "cell_type": "markdown",
   "id": "4d4dcb1c",
   "metadata": {},
   "source": [
    "Wie können wir die beiden Klassen rot vs blau unterscheiden?"
   ]
  },
  {
   "cell_type": "code",
   "execution_count": null,
   "id": "0f2290cb",
   "metadata": {},
   "outputs": [],
   "source": [
    "import numpy as np\n",
    "import matplotlib.pyplot as plt # Kapitel 3.6\n",
    "\n",
    "dataset = np.loadtxt(\"/home/pi/ml_lectures/examples/autoklassifizierung.csv\", delimiter=\",\")\n",
    "\n",
    "x = dataset[:,1:3]\n",
    "y = dataset[:,0]\n",
    "\n",
    "fig = plt.figure(1, figsize=(14, 10), dpi=100) # create figure object #1 with 9x7 inch and 80dpi\n",
    "ax = fig.add_subplot(2,2,1) # add 2x2 layout and first subplot (row, column, number of subplot)\n",
    "\n",
    "ax.set_title('Auto-Datensammlung')\n",
    "ax.scatter(dataset[0:20,1],dataset[0:20,2],c='red',s=60,alpha=0.6,label=\"Mittelklasse\") # class 1+2\n",
    "ax.scatter(dataset[20:40,1],dataset[20:40,2],c='blue',marker='^',s=80,alpha=0.6,label=\"Kleinwagen\") # class 3+4\n",
    "ax.set_xlabel('Kaufpreis (€)')\n",
    "ax.set_ylabel('Leistung (kW)')\n",
    "ax.grid(True,linestyle='-',color='0.75')\n",
    "\n",
    "x1, y1 = [45000, 25000], [40, 160]\n",
    "x2, y2 = [20000, 6000], [40, 120]\n",
    "ax.plot(x1, y1, x2, y2, c='green', marker = 'o')\n",
    "\n",
    "plt.legend(loc=\"upper left\")"
   ]
  }
 ],
 "metadata": {
  "kernelspec": {
   "display_name": "ml_project_kernel",
   "language": "python",
   "name": "ml_project_kernel"
  },
  "language_info": {
   "codemirror_mode": {
    "name": "ipython",
    "version": 3
   },
   "file_extension": ".py",
   "mimetype": "text/x-python",
   "name": "python",
   "nbconvert_exporter": "python",
   "pygments_lexer": "ipython3",
   "version": "3.11.2"
  }
 },
 "nbformat": 4,
 "nbformat_minor": 5
}
